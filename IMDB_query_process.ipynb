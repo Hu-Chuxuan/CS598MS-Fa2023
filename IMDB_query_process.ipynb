{
 "cells": [
  {
   "cell_type": "code",
   "execution_count": 6,
   "id": "1be73579-3588-4c6d-a04c-3203dd646bb7",
   "metadata": {},
   "outputs": [
    {
     "name": "stderr",
     "output_type": "stream",
     "text": [
      "23/10/20 15:11:25 WARN SparkSession: Using an existing Spark session; only runtime SQL configurations will take effect.\n"
     ]
    }
   ],
   "source": [
    "from pyspark.sql import SparkSession\n",
    "\n",
    "spark = SparkSession.builder \\\n",
    "    .appName(\"Running SQL Queries for IMDb\") \\\n",
    "    .getOrCreate()"
   ]
  },
  {
   "cell_type": "code",
   "execution_count": 14,
   "id": "4044320d-ed65-4923-b2a3-6efe8677eaa8",
   "metadata": {},
   "outputs": [],
   "source": [
    "df1 = spark.read.csv(\"ImdbName.csv\", header = True)\n",
    "df1.createOrReplaceTempView(\"Name\")\n",
    "\n",
    "df2 = spark.read.csv(\"ImdbTitleAkas.csv\", header = True)\n",
    "df2.createOrReplaceTempView(\"TitleAkas\")\n",
    "\n",
    "df3 = spark.read.csv(\"ImdbTitleBasics.csv\", header = True)\n",
    "df3.createOrReplaceTempView(\"TitleBasics\")\n",
    "\n",
    "df4 = spark.read.csv(\"ImdbTitleCrew.csv\", header = True)\n",
    "df4.createOrReplaceTempView(\"TitleCrew\")\n",
    "\n",
    "df5 = spark.read.csv(\"ImdbTitleEpisode.csv\", header = True)\n",
    "df5.createOrReplaceTempView(\"TitleEpisode\")\n",
    "\n",
    "df6 = spark.read.csv(\"ImdbTitlePrincipals.csv\", header = True)\n",
    "df6.createOrReplaceTempView(\"TitlePrincipals\")\n",
    "\n",
    "df7 = spark.read.csv(\"ImdbTitleRatings.csv\", header = True)\n",
    "df7.createOrReplaceTempView(\"TitleRatings\")"
   ]
  },
  {
   "cell_type": "code",
   "execution_count": 15,
   "id": "f8844d91-def7-4771-a24d-5e9df20510ce",
   "metadata": {},
   "outputs": [],
   "source": [
    "# df1.show()"
   ]
  },
  {
   "cell_type": "code",
   "execution_count": 17,
   "id": "dd14e4f9-565a-4da3-a3b2-d7b27882f438",
   "metadata": {},
   "outputs": [
    {
     "name": "stdout",
     "output_type": "stream",
     "text": [
      "+---------+---------+--------------------+--------------------+-------+---------+-------+--------------+--------------------+\n",
      "|   tconst|titleType|        primaryTitle|       originalTitle|isAdult|startYear|endYear|runtimeMinutes|              genres|\n",
      "+---------+---------+--------------------+--------------------+-------+---------+-------+--------------+--------------------+\n",
      "|tt0000001|    short|          Carmencita|          Carmencita|      0|     1894|     \\N|             1|   Documentary,Short|\n",
      "|tt0000002|    short|Le clown et ses c...|Le clown et ses c...|      0|     1892|     \\N|             5|     Animation,Short|\n",
      "|tt0000003|    short|      Pauvre Pierrot|      Pauvre Pierrot|      0|     1892|     \\N|             4|Animation,Comedy,...|\n",
      "|tt0000004|    short|         Un bon bock|         Un bon bock|      0|     1892|     \\N|            12|     Animation,Short|\n",
      "|tt0000005|    short|    Blacksmith Scene|    Blacksmith Scene|      0|     1893|     \\N|             1|        Comedy,Short|\n",
      "|tt0000006|    short|   Chinese Opium Den|   Chinese Opium Den|      0|     1894|     \\N|             1|               Short|\n",
      "|tt0000007|    short|Corbett and Court...|Corbett and Court...|      0|     1894|     \\N|             1|         Short,Sport|\n",
      "|tt0000008|    short|Edison Kinetoscop...|Edison Kinetoscop...|      0|     1894|     \\N|             1|   Documentary,Short|\n",
      "|tt0000009|    short|          Miss Jerry|          Miss Jerry|      0|     1894|     \\N|            40|       Romance,Short|\n",
      "|tt0000010|    short| Leaving the Factory|La sortie de l'us...|      0|     1895|     \\N|             1|   Documentary,Short|\n",
      "+---------+---------+--------------------+--------------------+-------+---------+-------+--------------+--------------------+\n",
      "\n"
     ]
    }
   ],
   "source": [
    "path = \"queries/1.sql\"\n",
    "with open(path) as sql_file:\n",
    "    sql_query = sql_file.read()\n",
    "result = spark.sql(sql_query)\n",
    "result.show()"
   ]
  }
 ],
 "metadata": {
  "kernelspec": {
   "display_name": "Python 3 (ipykernel)",
   "language": "python",
   "name": "python3"
  },
  "language_info": {
   "codemirror_mode": {
    "name": "ipython",
    "version": 3
   },
   "file_extension": ".py",
   "mimetype": "text/x-python",
   "name": "python",
   "nbconvert_exporter": "python",
   "pygments_lexer": "ipython3",
   "version": "3.10.0"
  }
 },
 "nbformat": 4,
 "nbformat_minor": 5
}
